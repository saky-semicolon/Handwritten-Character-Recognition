{
 "cells": [
  {
   "cell_type": "markdown",
   "id": "3cc31d31-7a50-407a-afb5-e8472ddeb7a0",
   "metadata": {},
   "source": [
    "# Handwritten Character Recognition\n",
    "## Task 3 (CodeAlpha)"
   ]
  },
  {
   "cell_type": "markdown",
   "id": "38a3c45d-2a72-49e9-92bc-0983d1ed48ee",
   "metadata": {},
   "source": [
    "<hr>"
   ]
  },
  {
   "cell_type": "markdown",
   "id": "0c96e133-336c-4414-a1f3-d5442b7e0465",
   "metadata": {},
   "source": [
    "### Importing the Libraries"
   ]
  },
  {
   "cell_type": "code",
   "execution_count": 2,
   "id": "48252e6c-7655-48fa-a490-c1b62801c1f7",
   "metadata": {
    "tags": []
   },
   "outputs": [],
   "source": [
    "import os\n",
    "import cv2\n",
    "import numpy as np\n",
    "from tensorflow.keras.models import load_model\n",
    "from sklearn.metrics import accuracy_score, classification_report\n",
    "import matplotlib.pyplot as plt"
   ]
  },
  {
   "cell_type": "markdown",
   "id": "46d69901-e7ab-4148-b01b-89b13028dc1a",
   "metadata": {},
   "source": [
    "### Preprocessing Functions\n",
    "**Image data preprocessing.** After pre-processing, the images should be similar to ```MINST``` images.\n",
    "\n",
    "    Preprocessing a single image to match the MNIST format.\n",
    "    - Convert to grayscale.\n",
    "    - Resize to 28x28 pixels.\n",
    "    - Normalize pixel values to [0, 1].\n",
    "    - Invert colors to match MNIST style (white digits on black background).\n"
   ]
  },
  {
   "cell_type": "code",
   "execution_count": 3,
   "id": "c28d3c72-b09b-4d28-894c-045aa26f4bc4",
   "metadata": {
    "tags": []
   },
   "outputs": [],
   "source": [
    "def preprocess_image(image_path):\n",
    "    # Load the image in grayscale mode\n",
    "    img = cv2.imread(image_path, cv2.IMREAD_GRAYSCALE)\n",
    "    \n",
    "    # Resize the image to 28x28 pixels (MNIST standard)\n",
    "    img_resized = cv2.resize(img, (28, 28))\n",
    "    \n",
    "    # Normalize pixel values to the range [0, 1]\n",
    "    img_normalized = img_resized / 255.0\n",
    "    \n",
    "    # Invert the colors (MNIST has white digits on a black background)\n",
    "    img_inverted = 1 - img_normalized\n",
    "    \n",
    "    # Return the preprocessed image (flatten if needed for the model)\n",
    "    return img_inverted"
   ]
  },
  {
   "cell_type": "code",
   "execution_count": 4,
   "id": "4a463a52-3cfb-409c-940d-35a40282b87a",
   "metadata": {
    "tags": []
   },
   "outputs": [],
   "source": [
    "def load_images_and_labels(folder_path):\n",
    "    images = []\n",
    "    labels = []\n",
    "    \n",
    "    for file_name in os.listdir(folder_path):\n",
    "        # Ensure the file is an image (ends with .png)\n",
    "        if file_name.endswith(\".png\"):\n",
    "            # Preprocess the image\n",
    "            img = preprocess_image(os.path.join(folder_path, file_name))\n",
    "            images.append(img)\n",
    "            \n",
    "            # Extract the numeric label from the file name\n",
    "            label = int(file_name.split(\".\")[0])  # Extract the digit (e.g., '0.png' -> 0)\n",
    "            labels.append(label)\n",
    "    \n",
    "    # Convert to NumPy arrays for compatibility with TensorFlow/Keras\n",
    "    return np.array(images), np.array(labels)\n"
   ]
  },
  {
   "cell_type": "markdown",
   "id": "1a2a94da-8aef-4e96-bb37-2370b2987974",
   "metadata": {},
   "source": [
    "### Load and Preprocess Testing Data\n",
    "Digits 0-9 with own hand writing on paper, taken photo for loading."
   ]
  },
  {
   "cell_type": "code",
   "execution_count": 7,
   "id": "ddf6fb53-75ab-427d-b2d9-4b0a4978b81a",
   "metadata": {
    "tags": []
   },
   "outputs": [],
   "source": [
    "# Path to the folder containing the dataset\n",
    "folder_path = \"/home/saky/Desktop/AIU_Academic/Year 3/Deep Learning/Lab3/dataset\"\n",
    "\n",
    "# Load images and labels\n",
    "X_test, y_test = load_images_and_labels(folder_path)\n",
    "\n",
    "# Reshape the images to match the model's input format\n",
    "# Assuming the model expects images in the format (samples, 28, 28, 1)\n",
    "X_test = X_test.reshape((-1, 28, 28, 1))"
   ]
  },
  {
   "cell_type": "markdown",
   "id": "332e1dfb-dcc0-4732-b2d5-b145c004363d",
   "metadata": {},
   "source": [
    "### Loading Saved Model"
   ]
  },
  {
   "cell_type": "code",
   "execution_count": 8,
   "id": "720923c5-1a63-422e-893b-f41356925951",
   "metadata": {
    "tags": []
   },
   "outputs": [
    {
     "name": "stderr",
     "output_type": "stream",
     "text": [
      "WARNING:absl:Compiled the loaded model, but the compiled metrics have yet to be built. `model.compile_metrics` will be empty until you train or evaluate the model.\n"
     ]
    }
   ],
   "source": [
    "# Specify the path to your saved model\n",
    "model_path = \"/home/saky/Desktop/AIU_Academic/Year 3/Deep Learning/Lab3/my_trained_model.h5\"\n",
    "# Load the trained model\n",
    "model = load_model(model_path)"
   ]
  },
  {
   "cell_type": "markdown",
   "id": "5a0337c0-1d69-4d4a-b037-3be79072de1a",
   "metadata": {},
   "source": [
    "### Model for Prediction"
   ]
  },
  {
   "cell_type": "code",
   "execution_count": 9,
   "id": "f9e20f49-0c2d-4ee0-9ef6-8dae553dbf68",
   "metadata": {
    "tags": []
   },
   "outputs": [
    {
     "name": "stdout",
     "output_type": "stream",
     "text": [
      "\u001b[1m1/1\u001b[0m \u001b[32m━━━━━━━━━━━━━━━━━━━━\u001b[0m\u001b[37m\u001b[0m \u001b[1m0s\u001b[0m 318ms/step\n"
     ]
    }
   ],
   "source": [
    "# Predict the labels for the test data\n",
    "y_pred = model.predict(X_test)"
   ]
  },
  {
   "cell_type": "code",
   "execution_count": 10,
   "id": "16dc979e-07cc-4a3f-a551-91a12854ad70",
   "metadata": {
    "tags": []
   },
   "outputs": [],
   "source": [
    "# Convert the predicted probabilities to class labels\n",
    "y_pred_classes = np.argmax(y_pred, axis=1)"
   ]
  },
  {
   "cell_type": "markdown",
   "id": "bbb75721-d252-424b-b656-124798ced81b",
   "metadata": {},
   "source": [
    "### Evaluate Model Performance"
   ]
  },
  {
   "cell_type": "code",
   "execution_count": 11,
   "id": "512faa7c-e318-4c33-9231-066548cafa61",
   "metadata": {
    "tags": []
   },
   "outputs": [
    {
     "name": "stdout",
     "output_type": "stream",
     "text": [
      "Model Accuracy: 80.00%\n"
     ]
    }
   ],
   "source": [
    "# Calculate accuracy\n",
    "accuracy = accuracy_score(y_test, y_pred_classes)\n",
    "print(f\"Model Accuracy: {accuracy * 100:.2f}%\")"
   ]
  },
  {
   "cell_type": "code",
   "execution_count": 12,
   "id": "7f65e429-307e-4a6e-b5dd-81c77ffb87f7",
   "metadata": {
    "tags": []
   },
   "outputs": [
    {
     "name": "stdout",
     "output_type": "stream",
     "text": [
      "\n",
      "Classification Report:\n",
      "              precision    recall  f1-score   support\n",
      "\n",
      "           0       1.00      1.00      1.00         1\n",
      "           1       0.00      0.00      0.00         1\n",
      "           2       0.50      1.00      0.67         1\n",
      "           3       0.50      1.00      0.67         1\n",
      "           4       1.00      1.00      1.00         1\n",
      "           5       1.00      1.00      1.00         1\n",
      "           6       1.00      1.00      1.00         1\n",
      "           7       1.00      1.00      1.00         1\n",
      "           8       0.00      0.00      0.00         1\n",
      "           9       1.00      1.00      1.00         1\n",
      "\n",
      "    accuracy                           0.80        10\n",
      "   macro avg       0.70      0.80      0.73        10\n",
      "weighted avg       0.70      0.80      0.73        10\n",
      "\n"
     ]
    },
    {
     "name": "stderr",
     "output_type": "stream",
     "text": [
      "/home/saky/anaconda3/lib/python3.11/site-packages/sklearn/metrics/_classification.py:1469: UndefinedMetricWarning: Precision and F-score are ill-defined and being set to 0.0 in labels with no predicted samples. Use `zero_division` parameter to control this behavior.\n",
      "  _warn_prf(average, modifier, msg_start, len(result))\n",
      "/home/saky/anaconda3/lib/python3.11/site-packages/sklearn/metrics/_classification.py:1469: UndefinedMetricWarning: Precision and F-score are ill-defined and being set to 0.0 in labels with no predicted samples. Use `zero_division` parameter to control this behavior.\n",
      "  _warn_prf(average, modifier, msg_start, len(result))\n",
      "/home/saky/anaconda3/lib/python3.11/site-packages/sklearn/metrics/_classification.py:1469: UndefinedMetricWarning: Precision and F-score are ill-defined and being set to 0.0 in labels with no predicted samples. Use `zero_division` parameter to control this behavior.\n",
      "  _warn_prf(average, modifier, msg_start, len(result))\n"
     ]
    }
   ],
   "source": [
    "# Generate a classification report\n",
    "print(\"\\nClassification Report:\")\n",
    "print(classification_report(y_test, y_pred_classes))"
   ]
  },
  {
   "cell_type": "markdown",
   "id": "a2d92de1-b908-4121-a556-43a0e958bb77",
   "metadata": {},
   "source": [
    "### Display detected and Undetected Images"
   ]
  },
  {
   "cell_type": "code",
   "execution_count": 13,
   "id": "a634bd53-9d50-469a-8f96-39045e3dc70b",
   "metadata": {
    "tags": []
   },
   "outputs": [],
   "source": [
    "def visualize_results(X_test, y_test, y_pred_classes):\n",
    "    for i in range(len(y_test)):\n",
    "        # Reshape the image back to 28x28 for visualization\n",
    "        img = X_test[i].reshape(28, 28)\n",
    "        true_label = y_test[i]\n",
    "        predicted_label = y_pred_classes[i]\n",
    "        \n",
    "        # Plot the image\n",
    "        plt.imshow(img, cmap='gray')\n",
    "        plt.axis('off')  # Remove axes for better visualization\n",
    "        \n",
    "        # Add title based on detection status\n",
    "        if true_label == predicted_label:\n",
    "            plt.title(f\"True: {true_label}, Predicted: {predicted_label}\", color=\"green\")\n",
    "        else:\n",
    "            plt.title(f\"True: {true_label}, Predicted: {predicted_label}\", color=\"red\")\n",
    "        \n",
    "        # Show the image\n",
    "        plt.show()"
   ]
  },
  {
   "cell_type": "code",
   "execution_count": 14,
   "id": "5bd40de7-422e-4bbd-b04c-f0f8710f4e17",
   "metadata": {
    "tags": []
   },
   "outputs": [
    {
     "data": {
      "image/png": "[encoded data removed]",
      "text/plain": [
       "<Figure size 640x480 with 1 Axes>"
      ]
     },
     "metadata": {},
     "output_type": "display_data"
    },
    {
     "data": {
      "image/png": "[encoded data removed]",
      "text/plain": [
       "<Figure size 640x480 with 1 Axes>"
      ]
     },
     "metadata": {},
     "output_type": "display_data"
    },
    {
     "data": {
      "image/png": "[encoded data removed]",
      "text/plain": [
       "<Figure size 640x480 with 1 Axes>"
      ]
     },
     "metadata": {},
     "output_type": "display_data"
    },
    {
     "data": {
      "image/png": "[encoded data removed]",
      "text/plain": [
       "<Figure size 640x480 with 1 Axes>"
      ]
     },
     "metadata": {},
     "output_type": "display_data"
    },
    {
     "data": {
      "image/png": "[encoded data removed]",
      "text/plain": [
       "<Figure size 640x480 with 1 Axes>"
      ]
     },
     "metadata": {},
     "output_type": "display_data"
    },
    {
     "data": {
      "image/png": "[encoded data removed]",
      "text/plain": [
       "<Figure size 640x480 with 1 Axes>"
      ]
     },
     "metadata": {},
     "output_type": "display_data"
    },
    {
     "data": {
      "image/png": "[encoded data removed]",
      "text/plain": [
       "<Figure size 640x480 with 1 Axes>"
      ]
     },
     "metadata": {},
     "output_type": "display_data"
    },
    {
     "data": {
      "image/png": "[encoded data removed]",
      "text/plain": [
       "<Figure size 640x480 with 1 Axes>"
      ]
     },
     "metadata": {},
     "output_type": "display_data"
    },
    {
     "data": {
      "image/png": "[encoded data removed]",
      "text/plain": [
       "<Figure size 640x480 with 1 Axes>"
      ]
     },
     "metadata": {},
     "output_type": "display_data"
    },
    {
     "data": {
      "image/png": "[encoded data removed]",
      "text/plain": [
       "<Figure size 640x480 with 1 Axes>"
      ]
     },
     "metadata": {},
     "output_type": "display_data"
    }
   ],
   "source": [
    "# Visualize the results\n",
    "visualize_results(X_test, y_test, y_pred_classes)"
   ]
  },
  {
   "cell_type": "markdown",
   "id": "3937f2a4-50ef-4b8a-bda4-319c0a766930",
   "metadata": {},
   "source": [
    "### Result Analysis:\n",
    "- From 10 digits of the testing loaded data, 8 digits could be predicted accurately and 2 digits were wrongly predicted.\n",
    "- The model Accuracy is 80%."
   ]
  },
  {
   "cell_type": "markdown",
   "id": "6c8ecb41-18a2-4f65-b611-770e3b30dfd3",
   "metadata": {},
   "source": [
    "__*Thank You!*__"
   ]
  }
 ],
 "metadata": {
  "kernelspec": {
   "display_name": "Python 3 (ipykernel)",
   "language": "python",
   "name": "python3"
  },
  "language_info": {
   "codemirror_mode": {
    "name": "ipython",
    "version": 3
   },
   "file_extension": ".py",
   "mimetype": "text/x-python",
   "name": "python",
   "nbconvert_exporter": "python",
   "pygments_lexer": "ipython3",
   "version": "3.11.5"
  },
  "widgets": {
   "application/vnd.jupyter.widget-state+json": {
    "state": {},
    "version_major": 2,
    "version_minor": 0
   }
  }
 },
 "nbformat": 4,
 "nbformat_minor": 5
}
